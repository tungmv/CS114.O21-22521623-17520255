{
 "cells": [
  {
   "cell_type": "markdown",
   "metadata": {},
   "source": [
    "## Loading and Inspecting the Data"
   ]
  },
  {
   "cell_type": "code",
   "execution_count": 1,
   "metadata": {},
   "outputs": [],
   "source": [
    "import pandas as pd\n",
    "\n",
    "# import dataset from .csv files\n",
    "annonimized_df = pd.read_csv('public_it001/annonimized.csv')\n",
    "th_public_df = pd.read_csv('public_it001/th-public.csv')\n",
    "\n",
    "#ck_public_df = pd.read_csv('public_it001/tbtl-public.csv')\n",
    "#qt_public_df = pd.read_csv('public_it001/qt-public.csv')\n",
    "#tbtl_public_df = pd.read_csv('public_it001/ck-public.csv')"
   ]
  },
  {
   "cell_type": "code",
   "execution_count": null,
   "metadata": {},
   "outputs": [],
   "source": [
    "# Inspect the first few rows \n",
    "print(annonimized_df.head())\n",
    "#print(th_public_df.head())\n",
    "\n",
    "#print(ck_public_df.head())\n",
    "#print(qt_public_df.head())\n",
    "#print(tbtl_public_df.head())"
   ]
  },
  {
   "cell_type": "markdown",
   "metadata": {},
   "source": [
    "## Data Cleaning and Merging"
   ]
  },
  {
   "cell_type": "code",
   "execution_count": null,
   "metadata": {},
   "outputs": [],
   "source": [
    "# Select the specified columns/features\n",
    "selected_columns = [\n",
    "    'assignment_id',\n",
    "    'username',\n",
    "    'is_final',\n",
    "    'status',\n",
    "    'coefficient',\n",
    "    'judgement'\n",
    "]\n",
    "# Save filtered df to csv file (optional)\n",
    "df = annonimized_df[selected_columns]\n",
    "#df.to_csv('filtered_annonimized.csv', index=False)"
   ]
  },
  {
   "cell_type": "code",
   "execution_count": 14,
   "metadata": {},
   "outputs": [
    {
     "data": {
      "text/html": [
       "<div>\n",
       "<style scoped>\n",
       "    .dataframe tbody tr th:only-of-type {\n",
       "        vertical-align: middle;\n",
       "    }\n",
       "\n",
       "    .dataframe tbody tr th {\n",
       "        vertical-align: top;\n",
       "    }\n",
       "\n",
       "    .dataframe thead th {\n",
       "        text-align: right;\n",
       "    }\n",
       "</style>\n",
       "<table border=\"1\" class=\"dataframe\">\n",
       "  <thead>\n",
       "    <tr style=\"text-align: right;\">\n",
       "      <th></th>\n",
       "      <th>assignment_id</th>\n",
       "      <th>username</th>\n",
       "      <th>is_final</th>\n",
       "      <th>status</th>\n",
       "      <th>coefficient</th>\n",
       "      <th>judgement</th>\n",
       "    </tr>\n",
       "  </thead>\n",
       "  <tbody>\n",
       "    <tr>\n",
       "      <th>0</th>\n",
       "      <td>90ce27571176d87961b565d5ef4b3de33ede04ac</td>\n",
       "      <td>ed9eaeb6a707f50154024b24d7efcb874a9795dd</td>\n",
       "      <td>0</td>\n",
       "      <td>SCORE</td>\n",
       "      <td>100</td>\n",
       "      <td>{\"times\":[0,0,0,0,0,0,0,0,0,0],\"mems\":[0,0,0,0...</td>\n",
       "    </tr>\n",
       "    <tr>\n",
       "      <th>1</th>\n",
       "      <td>90ce27571176d87961b565d5ef4b3de33ede04ac</td>\n",
       "      <td>ed9eaeb6a707f50154024b24d7efcb874a9795dd</td>\n",
       "      <td>0</td>\n",
       "      <td>SCORE</td>\n",
       "      <td>100</td>\n",
       "      <td>{\"times\":[0,0,0,0,0,0,0,0,0,0],\"mems\":[0,0,0,0...</td>\n",
       "    </tr>\n",
       "    <tr>\n",
       "      <th>2</th>\n",
       "      <td>90ce27571176d87961b565d5ef4b3de33ede04ac</td>\n",
       "      <td>ed9eaeb6a707f50154024b24d7efcb874a9795dd</td>\n",
       "      <td>1</td>\n",
       "      <td>SCORE</td>\n",
       "      <td>100</td>\n",
       "      <td>{\"times\":[0,0,0,0,0,0,0,0,0,0],\"mems\":[0,0,0,0...</td>\n",
       "    </tr>\n",
       "    <tr>\n",
       "      <th>3</th>\n",
       "      <td>90ce27571176d87961b565d5ef4b3de33ede04ac</td>\n",
       "      <td>ed9eaeb6a707f50154024b24d7efcb874a9795dd</td>\n",
       "      <td>1</td>\n",
       "      <td>SCORE</td>\n",
       "      <td>100</td>\n",
       "      <td>{\"times\":[0,0,0,0,0,0,0,0,0,0],\"mems\":[0,0,0,0...</td>\n",
       "    </tr>\n",
       "    <tr>\n",
       "      <th>4</th>\n",
       "      <td>90ce27571176d87961b565d5ef4b3de33ede04ac</td>\n",
       "      <td>ed9eaeb6a707f50154024b24d7efcb874a9795dd</td>\n",
       "      <td>1</td>\n",
       "      <td>SCORE</td>\n",
       "      <td>100</td>\n",
       "      <td>{\"times\":[0,0,0,0,0,0,0,0,0,0],\"mems\":[0,0,0,0...</td>\n",
       "    </tr>\n",
       "  </tbody>\n",
       "</table>\n",
       "</div>"
      ],
      "text/plain": [
       "                              assignment_id  \\\n",
       "0  90ce27571176d87961b565d5ef4b3de33ede04ac   \n",
       "1  90ce27571176d87961b565d5ef4b3de33ede04ac   \n",
       "2  90ce27571176d87961b565d5ef4b3de33ede04ac   \n",
       "3  90ce27571176d87961b565d5ef4b3de33ede04ac   \n",
       "4  90ce27571176d87961b565d5ef4b3de33ede04ac   \n",
       "\n",
       "                                   username  is_final status  coefficient  \\\n",
       "0  ed9eaeb6a707f50154024b24d7efcb874a9795dd         0  SCORE          100   \n",
       "1  ed9eaeb6a707f50154024b24d7efcb874a9795dd         0  SCORE          100   \n",
       "2  ed9eaeb6a707f50154024b24d7efcb874a9795dd         1  SCORE          100   \n",
       "3  ed9eaeb6a707f50154024b24d7efcb874a9795dd         1  SCORE          100   \n",
       "4  ed9eaeb6a707f50154024b24d7efcb874a9795dd         1  SCORE          100   \n",
       "\n",
       "                                           judgement  \n",
       "0  {\"times\":[0,0,0,0,0,0,0,0,0,0],\"mems\":[0,0,0,0...  \n",
       "1  {\"times\":[0,0,0,0,0,0,0,0,0,0],\"mems\":[0,0,0,0...  \n",
       "2  {\"times\":[0,0,0,0,0,0,0,0,0,0],\"mems\":[0,0,0,0...  \n",
       "3  {\"times\":[0,0,0,0,0,0,0,0,0,0],\"mems\":[0,0,0,0...  \n",
       "4  {\"times\":[0,0,0,0,0,0,0,0,0,0],\"mems\":[0,0,0,0...  "
      ]
     },
     "execution_count": 14,
     "metadata": {},
     "output_type": "execute_result"
    }
   ],
   "source": [
    "df.head()"
   ]
  },
  {
   "cell_type": "code",
   "execution_count": 12,
   "metadata": {},
   "outputs": [],
   "source": [
    "# Combine data if necessary (assuming common key)\n",
    "combined_df = pd.merge(df, th_public_df, on='common_key')"
   ]
  },
  {
   "cell_type": "code",
   "execution_count": null,
   "metadata": {},
   "outputs": [],
   "source": []
  }
 ],
 "metadata": {
  "kernelspec": {
   "display_name": "Python 3",
   "language": "python",
   "name": "python3"
  },
  "language_info": {
   "codemirror_mode": {
    "name": "ipython",
    "version": 3
   },
   "file_extension": ".py",
   "mimetype": "text/x-python",
   "name": "python",
   "nbconvert_exporter": "python",
   "pygments_lexer": "ipython3",
   "version": "3.10.12"
  }
 },
 "nbformat": 4,
 "nbformat_minor": 2
}
